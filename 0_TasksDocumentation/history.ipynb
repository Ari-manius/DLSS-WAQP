{
 "cells": [
  {
   "cell_type": "raw",
   "id": "10e9aa59-cf8e-4cb0-824a-aae2aa6f5808",
   "metadata": {},
   "source": [
    "###Get Edit History for Multiple Articles"
   ]
  },
  {
   "cell_type": "code",
   "execution_count": null,
   "id": "03c17d59-5197-4adf-815e-7272b910b2b1",
   "metadata": {},
   "outputs": [],
   "source": [
    "import requests\n",
    "import time\n",
    "import csv\n",
    "from urllib.parse import quote\n",
    "\n",
    "# Load titles from your earlier step\n",
    "titles = list(titles)  # already extracted from WikiExtractor\n",
    "\n",
    "# Optional: limit to first N for testing\n",
    "# titles = titles[:50]\n",
    "\n",
    "# Output CSV\n",
    "with open(\"edit_history.csv\", \"w\", newline='', encoding='utf-8') as f:\n",
    "    writer = csv.writer(f)\n",
    "    writer.writerow([\"title\", \"timestamp\", \"user\", \"comment\", \"size\"])\n",
    "\n",
    "    for i, title in enumerate(titles):\n",
    "        print(f\"[{i}] Processing: {title}\")\n",
    "        safe_title = title.replace(\" \", \"_\")\n",
    "\n",
    "        # Initial query\n",
    "        base_url = \"https://en.wikipedia.org/w/api.php\"\n",
    "        params = {\n",
    "            \"action\": \"query\",\n",
    "            \"prop\": \"revisions\",\n",
    "            \"titles\": safe_title,\n",
    "            \"rvlimit\": \"500\",\n",
    "            \"rvprop\": \"timestamp|user|comment|size\",\n",
    "            \"format\": \"json\"\n",
    "        }\n",
    "\n",
    "        has_more = True\n",
    "        rvcontinue = None\n",
    "\n",
    "        while has_more:\n",
    "            if rvcontinue:\n",
    "                params[\"rvcontinue\"] = rvcontinue\n",
    "\n",
    "            response = requests.get(base_url, params=params)\n",
    "            if response.status_code != 200:\n",
    "                print(f\"  ✖ Failed: {response.status_code}\")\n",
    "                break\n",
    "\n",
    "            data = response.json()\n",
    "            pages = data.get(\"query\", {}).get(\"pages\", {})\n",
    "\n",
    "            for page_id, page_data in pages.items():\n",
    "                if \"revisions\" in page_data:\n",
    "                    for rev in page_data[\"revisions\"]:\n",
    "                        writer.writerow([\n",
    "                            title,\n",
    "                            rev.get(\"timestamp\"),\n",
    "                            rev.get(\"user\", \"N/A\"),\n",
    "                            rev.get(\"comment\", \"N/A\"),\n",
    "                            rev.get(\"size\", \"N/A\")\n",
    "                        ])\n",
    "\n",
    "            rvcontinue = data.get(\"continue\", {}).get(\"rvcontinue\")\n",
    "            has_more = bool(rvcontinue)\n",
    "\n",
    "            time.sleep(0.5)  # Polite pause to avoid rate-limiting\n"
   ]
  }
 ],
 "metadata": {
  "kernelspec": {
   "display_name": "Python 3 (ipykernel)",
   "language": "python",
   "name": "python3"
  },
  "language_info": {
   "codemirror_mode": {
    "name": "ipython",
    "version": 3
   },
   "file_extension": ".py",
   "mimetype": "text/x-python",
   "name": "python",
   "nbconvert_exporter": "python",
   "pygments_lexer": "ipython3",
   "version": "3.11.5"
  }
 },
 "nbformat": 4,
 "nbformat_minor": 5
}
