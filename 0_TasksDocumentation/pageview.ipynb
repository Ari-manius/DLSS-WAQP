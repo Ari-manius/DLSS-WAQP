{
 "cells": [
  {
   "cell_type": "raw",
   "id": "b0cb55c2-f164-4280-9145-d133b96cd1f3",
   "metadata": {},
   "source": [
    "Get Pageviews for Wikipedia Dump Articles\n",
    "(note: cannot get historical pageview counts before July 2015 via this API.)\n",
    "1.\tGet Article Titles from Dump(extract titles After running WikiExtractor)\n",
    "2.\tFormat Article Titles for API Use(Replace spaces with underscores)\n",
    "3.\tUse the Wikimedia Pageviews API\n",
    "4.\tSave to CSV\n"
   ]
  },
  {
   "cell_type": "code",
   "execution_count": null,
   "id": "7a8ad7b6-0461-45c8-9f6e-a7372d074ce8",
   "metadata": {},
   "outputs": [],
   "source": [
    "import requests\n",
    "import time\n",
    "import csv\n",
    "from urllib.parse import quote\n",
    "from bs4 import BeautifulSoup\n",
    "import glob\n",
    "\n",
    "# STEP 1: Extract titles from WikiExtractor files\n",
    "titles = set()\n",
    "for filename in glob.glob(\"extracted_text/*/*.txt\"):\n",
    "    with open(filename, 'r', encoding='utf-8') as file:\n",
    "        content = file.read()\n",
    "        soup = BeautifulSoup(content, \"html.parser\")\n",
    "        for doc in soup.find_all(\"doc\"):\n",
    "            titles.add(doc.get(\"title\"))\n",
    "titles = list(titles)\n",
    "\n",
    "# STEP 2: Set up output file and API date range\n",
    "start_date = \"20240101\"\n",
    "end_date = \"20240601\"\n",
    "\n",
    "with open(\"pageviews.csv\", \"w\", newline='', encoding=\"utf-8\") as f:\n",
    "    writer = csv.writer(f)\n",
    "    writer.writerow([\"title\", \"date\", \"views\"])\n",
    "\n",
    "    for i, title in enumerate(titles):\n",
    "        safe_title = quote(title.replace(\" \", \"_\"))  # URL encode title\n",
    "        url = f\"https://wikimedia.org/api/rest_v1/metrics/pageviews/per-article/en.wikipedia/all-access/all-agents/{safe_title}/daily/{start_date}/{end_date}\"\n",
    "\n",
    "        try:\n",
    "            response = requests.get(url)\n",
    "            if response.status_code == 200:\n",
    "                data = response.json()[\"items\"]\n",
    "                for item in data:\n",
    "                    writer.writerow([title, item[\"timestamp\"], item[\"views\"]])\n",
    "            else:\n",
    "                print(f\"[{i}] Skipped: {title} - {response.status_code}\")\n",
    "        except Exception as e:\n",
    "            print(f\"[{i}] Error: {title} - {e}\")\n",
    "        \n",
    "        time.sleep(0.5)  # Politeness delay to avoid rate limiting\n"
   ]
  }
 ],
 "metadata": {
  "kernelspec": {
   "display_name": "Python 3 (ipykernel)",
   "language": "python",
   "name": "python3"
  },
  "language_info": {
   "codemirror_mode": {
    "name": "ipython",
    "version": 3
   },
   "file_extension": ".py",
   "mimetype": "text/x-python",
   "name": "python",
   "nbconvert_exporter": "python",
   "pygments_lexer": "ipython3",
   "version": "3.11.5"
  }
 },
 "nbformat": 4,
 "nbformat_minor": 5
}
