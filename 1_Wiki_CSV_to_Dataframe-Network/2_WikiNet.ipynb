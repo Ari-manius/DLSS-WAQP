{
 "cells": [
  {
   "cell_type": "code",
   "execution_count": 2,
   "id": "0897f623",
   "metadata": {},
   "outputs": [],
   "source": [
    "import pandas as pd\n",
    "import json"
   ]
  },
  {
   "cell_type": "code",
   "execution_count": 3,
   "id": "2b81fa7e",
   "metadata": {},
   "outputs": [],
   "source": [
    "df_wikidata_articles = pd.read_json(\"data/wikidata_ready4net.json\", orient='records')\n",
    "\n",
    "with open(\"data/article_TitleID_dict.json\", \"r\") as f:\n",
    "    article_TitleID_dict = json.load(f)"
   ]
  },
  {
   "cell_type": "markdown",
   "id": "fd54d23c",
   "metadata": {},
   "source": [
    "***\n",
    "## Network"
   ]
  },
  {
   "cell_type": "code",
   "execution_count": 3,
   "id": "926b6a1b",
   "metadata": {},
   "outputs": [],
   "source": [
    "import networkx as nx\n",
    "import igraph as ig"
   ]
  },
  {
   "cell_type": "code",
   "execution_count": 4,
   "id": "95656c28",
   "metadata": {},
   "outputs": [],
   "source": [
    "df_edges = pd.read_csv('data/wikipedia_edges_filtered.csv')\n",
    "\n",
    "# Create the set of valid article names\n",
    "valid_articles = set(article_TitleID_dict.keys())\n",
    "\n",
    "# Check which sources and targets are NOT in the valid set\n",
    "invalid_sources = df_edges[~df_edges[\"source\"].isin(valid_articles)]\n",
    "invalid_targets = df_edges[~df_edges[\"target\"].isin(valid_articles)]\n",
    "\n",
    "df_edges[\"source\"] = df_edges[\"source\"].map(article_TitleID_dict)\n",
    "df_edges[\"target\"] = df_edges[\"target\"].map(article_TitleID_dict)\n",
    "\n",
    "list_edges = list(zip(df_edges[\"source\"], df_edges[\"target\"]))"
   ]
  },
  {
   "cell_type": "code",
   "execution_count": 5,
   "id": "4797e09c",
   "metadata": {},
   "outputs": [],
   "source": [
    "G_wiki = nx.DiGraph()\n",
    "G_wiki.add_edges_from(list_edges)"
   ]
  },
  {
   "cell_type": "code",
   "execution_count": 6,
   "id": "b7dc44ff",
   "metadata": {},
   "outputs": [],
   "source": [
    "ig_graph = ig.Graph.from_networkx(G_wiki)\n",
    "\n",
    "def node_reciprocity(graph):\n",
    "    reciprocities = []\n",
    "    for v in graph.vs:\n",
    "        out_neighbors = graph.successors(v.index)\n",
    "        if not out_neighbors:\n",
    "            reciprocities.append(0)  # No outgoing edges means reciprocity 0 by definition\n",
    "            continue\n",
    "        \n",
    "        # Count how many out_neighbors also link back to v\n",
    "        mutual_count = sum(1 for nbr in out_neighbors if graph.are_adjacent(nbr, v.index))\n",
    "        \n",
    "        reciprocity = mutual_count / len(out_neighbors)\n",
    "        reciprocities.append(reciprocity)\n",
    "    return reciprocities\n",
    "\n",
    "df_wikinetmetrics = pd.DataFrame({\n",
    "    'pageid': df_wikidata_articles['pageid'],\n",
    "    'degree_centrality': ig_graph.degree(),\n",
    "    'pagerank': ig_graph.personalized_pagerank(),\n",
    "    'hub' : ig_graph.hub_score(),\n",
    "    'authority' : ig_graph.authority_score(),\n",
    "    'eigen' : ig_graph.eigenvector_centrality(directed=True), \n",
    "    'reciprocity': node_reciprocity(ig_graph),\n",
    "})"
   ]
  },
  {
   "cell_type": "code",
   "execution_count": 7,
   "id": "704e993e",
   "metadata": {},
   "outputs": [],
   "source": [
    "# Compute indegrees\n",
    "indegree = dict(G_wiki.in_degree())\n",
    "outdegree = dict(G_wiki.out_degree())\n",
    "\n",
    "# Identify nodes with indegree of 1\n",
    "nodes_to_remove_1 = [node for node, deg in indegree.items() if deg < 2]\n",
    "nodes_to_remove_2 = [node for node, deg in outdegree.items() if deg < 2]\n",
    "\n",
    "G_wiki.remove_nodes_from(nodes_to_remove_1)\n",
    "G_wiki.remove_nodes_from(nodes_to_remove_2)"
   ]
  },
  {
   "cell_type": "code",
   "execution_count": 8,
   "id": "eabfa8fd",
   "metadata": {},
   "outputs": [],
   "source": [
    "df_wiki_fullfeatures = pd.merge(df_wikidata_articles, df_wikinetmetrics, how=\"inner\", on=\"pageid\")"
   ]
  },
  {
   "cell_type": "markdown",
   "id": "f2f7651f",
   "metadata": {},
   "source": [
    "***"
   ]
  },
  {
   "cell_type": "code",
   "execution_count": 9,
   "id": "92fb3cfd",
   "metadata": {},
   "outputs": [],
   "source": [
    "from sklearn.preprocessing import StandardScaler, RobustScaler, MinMaxScaler\n",
    "\n",
    "df_wiki_fullfeatures = pd.merge(df_wikidata_articles, df_wikinetmetrics, how=\"inner\", on=\"pageid\")\n",
    "\n",
    "numeric_columns = df_wiki_fullfeatures.select_dtypes(include='number').columns\n",
    "numeric_columns = numeric_columns[3:]\n",
    "\n",
    "def Frame_Scaler(scaler_label, Scaler):\n",
    "    df_wiki_fullfeatures_scaled = df_wiki_fullfeatures.copy()\n",
    "\n",
    "    scaler = Scaler\n",
    "    df_wiki_fullfeatures_scaled[numeric_columns] = scaler.fit_transform(df_wiki_fullfeatures_scaled[numeric_columns])\n",
    "\n",
    "    G_wiki_Scaled = G_wiki.copy()\n",
    "    attr_dict = df_wiki_fullfeatures_scaled.set_index(\"pageid\").to_dict(orient=\"index\")\n",
    "    nx.set_node_attributes(G_wiki_Scaled, attr_dict)\n",
    "\n",
    "    nx.write_graphml(G_wiki_Scaled, f\"data/G_wiki_{scaler_label}.graphml\")\n",
    "\n",
    "    return G_wiki_Scaled, df_wiki_fullfeatures_scaled"
   ]
  },
  {
   "cell_type": "code",
   "execution_count": 10,
   "id": "5fc8ac58",
   "metadata": {},
   "outputs": [],
   "source": [
    "G_wiki_standard, df_wiki_standard = Frame_Scaler(\"standard\", StandardScaler())\n",
    "G_wiki_robust, df_wiki_robust = Frame_Scaler(\"robust\", RobustScaler())\n",
    "G_wiki_minmax, df_wiki_minmax = Frame_Scaler(\"minmax\", MinMaxScaler())"
   ]
  },
  {
   "cell_type": "code",
   "execution_count": 11,
   "id": "2cbd63d9",
   "metadata": {},
   "outputs": [
    {
     "name": "stdout",
     "output_type": "stream",
     "text": [
      "Wiki Quality Labels: 0.08986329017222558\n",
      "Wiki Aggregated Labels: 0.17759418898709142\n",
      "Wiki Numeric Labels 0.19018533585048822\n"
     ]
    }
   ],
   "source": [
    "print(\"Wiki Quality Labels:\", nx.attribute_assortativity_coefficient(G_wiki_minmax, \"QC_cat\"))\n",
    "print(\"Wiki Aggregated Labels:\", nx.attribute_assortativity_coefficient(G_wiki_minmax, \"QC_aggcat\"))\n",
    "print(\"Wiki Numeric Labels\", nx.numeric_assortativity_coefficient(G_wiki_minmax, \"QC_num\"))"
   ]
  }
 ],
 "metadata": {
  "language_info": {
   "name": "python"
  }
 },
 "nbformat": 4,
 "nbformat_minor": 5
}
