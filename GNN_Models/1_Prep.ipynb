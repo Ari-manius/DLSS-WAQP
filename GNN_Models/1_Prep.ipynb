{
 "cells": [
  {
   "cell_type": "code",
   "execution_count": 1,
   "id": "6bcd0eff",
   "metadata": {},
   "outputs": [],
   "source": [
    "import torch\n",
    "import networkx as nx\n",
    "from torch_geometric.utils import from_networkx"
   ]
  },
  {
   "cell_type": "code",
   "execution_count": 2,
   "id": "bdde658e",
   "metadata": {},
   "outputs": [],
   "source": [
    "def torching_data(data, data_label, features, target):\n",
    "    data_clone = data.clone()\n",
    "\n",
    "    target_key = target\n",
    "\n",
    "    features = []\n",
    "    target = []\n",
    "\n",
    "    for key in feature_keys:\n",
    "        features.append(data_clone[key].unsqueeze(1))\n",
    "    if target_key in data_clone:\n",
    "        target.append(data_clone[target_key].unsqueeze(1))\n",
    "    if features:\n",
    "        data_clone.x = torch.cat(features, dim=1)  # shape: [num_nodes, num_features]\n",
    "    if target:\n",
    "        data_clone.y = torch.cat(target, dim=1)    # shape: [num_nodes, 1]\n",
    "\n",
    "    torch.save(data_clone, f'data/data_{data_label}.pt')\n",
    "\n",
    "    return data_clone"
   ]
  },
  {
   "cell_type": "code",
   "execution_count": 3,
   "id": "1b71761f",
   "metadata": {},
   "outputs": [],
   "source": [
    "G_wiki_minmax = nx.read_graphml(\"../Test_WikiDataNet/data/G_wiki_minmax.graphml\")\n",
    "G_wiki_robust = nx.read_graphml(\"../Test_WikiDataNet/data/G_wiki_robust.graphml\")\n",
    "G_wiki_standard = nx.read_graphml(\"../Test_WikiDataNet/data/G_wiki_standard.graphml\")"
   ]
  },
  {
   "cell_type": "code",
   "execution_count": 4,
   "id": "8e5d7c8c",
   "metadata": {},
   "outputs": [],
   "source": [
    "data_standard = from_networkx(G_wiki_standard)\n",
    "data_robust = from_networkx(G_wiki_robust)\n",
    "data_minmax = from_networkx(G_wiki_minmax)"
   ]
  },
  {
   "cell_type": "code",
   "execution_count": 6,
   "id": "64a536c3",
   "metadata": {},
   "outputs": [],
   "source": [
    "feature_keys = [\"num_categories\", \n",
    "                \"num_links\", \n",
    "                \"page_length\", \n",
    "                \"num_references\", \n",
    "                \"num_sections\", \n",
    "                \"num_templates\", \n",
    "                \"has_infobox_encoded\",\n",
    "                \"protection_status_encoded\",\n",
    "                \"assessment_source_umap_1\",\n",
    "                \"assessment_source_umap_2\",\n",
    "                \"categories_umap_1\",\n",
    "                \"categories_umap_2\",\n",
    "                \"categories_umap_3\",\n",
    "                \"templates_umap_1\",\n",
    "                \"templates_umap_2\",\n",
    "                \"templates_umap_3\",\n",
    "                \"degree_centrality\",\n",
    "                \"pagerank\",\n",
    "                \"reciprocity\",\n",
    "                \"hub\",\n",
    "                \"authority\",\n",
    "                \"eigen\"]"
   ]
  },
  {
   "cell_type": "code",
   "execution_count": 7,
   "id": "417eeec9",
   "metadata": {},
   "outputs": [],
   "source": [
    "# Regressions\n",
    "data_standard_reg = torching_data(data_standard, \"standard_reg\", feature_keys, \"QC_num_log\")\n",
    "data_robust_reg = torching_data(data_robust, \"robust_reg\", feature_keys, \"QC_num_log\")\n",
    "data_minmax_reg = torching_data(data_minmax, \"minmax_reg\", feature_keys, \"QC_num_log\")"
   ]
  },
  {
   "cell_type": "code",
   "execution_count": 8,
   "id": "50c5bcba",
   "metadata": {},
   "outputs": [],
   "source": [
    "data_standard_cat = torching_data(data_standard, \"standard_cat\", feature_keys, \"QC_cat\")\n",
    "data_robust_cat = torching_data(data_robust, \"robust_cat\", feature_keys, \"QC_cat\")\n",
    "data_minmax_cat = torching_data(data_minmax, \"minmax_cat\", feature_keys, \"QC_cat\")"
   ]
  },
  {
   "cell_type": "code",
   "execution_count": 9,
   "id": "49b840d7",
   "metadata": {},
   "outputs": [],
   "source": [
    "data_standard_catagg = torching_data(data_standard, \"standard_catagg\", feature_keys, \"QC_aggcat\")\n",
    "data_robust_catagg = torching_data(data_robust, \"robust_catagg\", feature_keys, \"QC_aggcat\")\n",
    "data_minmax_catagg = torching_data(data_minmax, \"minmax_catagg\", feature_keys, \"QC_aggcat\")"
   ]
  }
 ],
 "metadata": {
  "language_info": {
   "name": "python"
  }
 },
 "nbformat": 4,
 "nbformat_minor": 5
}
