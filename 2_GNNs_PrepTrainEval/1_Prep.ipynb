{
 "cells": [
  {
   "cell_type": "code",
   "execution_count": 1,
   "id": "6bcd0eff",
   "metadata": {},
   "outputs": [],
   "source": [
    "import torch\n",
    "import networkx as nx\n",
    "from torch_geometric.utils import from_networkx"
   ]
  },
  {
   "cell_type": "code",
   "execution_count": null,
   "id": "3d89636f",
   "metadata": {},
   "outputs": [],
   "source": [
    "def load_gt_for_pytorch(gt_file_path, node_features=None, edge_features=None, target=None):\n",
    "    \"\"\"\n",
    "    Load .gt file and convert to PyTorch Geometric format.\n",
    "    \n",
    "    Parameters:\n",
    "    -----------\n",
    "    gt_file_path : str\n",
    "        Path to .gt file\n",
    "    node_features : list\n",
    "        List of vertex property names for node features\n",
    "    edge_features : list  \n",
    "        List of edge property names for edge features\n",
    "    target : str\n",
    "        Vertex property name for target/labels\n",
    "        \n",
    "    Returns:\n",
    "    --------\n",
    "    torch_geometric.data.Data\n",
    "    \"\"\"\n",
    "    # Load graph-tool graph\n",
    "    g_gt = gt.load_graph(gt_file_path)\n",
    "    \n",
    "    # Print available properties for debugging\n",
    "    print(f\"Available vertex properties: {list(g_gt.vertex_properties.keys())}\")\n",
    "    print(f\"Available edge properties: {list(g_gt.edge_properties.keys())}\")\n",
    "    \n",
    "    # Convert to PyTorch Geometric\n",
    "    data = graphtool_to_pytorch_geometric(\n",
    "        g_gt, \n",
    "        node_feature_props=node_features,\n",
    "        edge_feature_props=edge_features,\n",
    "        target_prop=target\n",
    "    )\n",
    "    \n",
    "    return data"
   ]
  },
  {
   "cell_type": "code",
   "execution_count": 2,
   "id": "bdde658e",
   "metadata": {},
   "outputs": [],
   "source": [
    "def torching_data(data, data_label, features, target):\n",
    "    data_clone = data.clone()\n",
    "\n",
    "    target_key = target\n",
    "\n",
    "    features = []\n",
    "    target = []\n",
    "\n",
    "    for key in feature_keys:\n",
    "        features.append(data_clone[key].unsqueeze(1))\n",
    "    if target_key in data_clone:\n",
    "        target.append(data_clone[target_key].unsqueeze(1))\n",
    "    if features:\n",
    "        data_clone.x = torch.cat(features, dim=1)  # shape: [num_nodes, num_features]\n",
    "    if target:\n",
    "        data_clone.y = torch.cat(target, dim=1)    # shape: [num_nodes, 1]\n",
    "\n",
    "    torch.save(data_clone, f'data/data_{data_label}.pt')\n",
    "\n",
    "    return data_clone"
   ]
  },
  {
   "cell_type": "code",
   "execution_count": 3,
   "id": "1b71761f",
   "metadata": {},
   "outputs": [],
   "source": [
    "G_wiki_minmax = nx.read_graphml(\"../Test_WikiDataNet/data/G_wiki_minmax.graphml\")\n",
    "G_wiki_robust = nx.read_graphml(\"../Test_WikiDataNet/data/G_wiki_robust.graphml\")\n",
    "G_wiki_standard = nx.read_graphml(\"../Test_WikiDataNet/data/G_wiki_standard.graphml\")"
   ]
  },
  {
   "cell_type": "code",
   "execution_count": 4,
   "id": "8e5d7c8c",
   "metadata": {},
   "outputs": [],
   "source": [
    "data_standard = from_networkx(G_wiki_standard)\n",
    "data_robust = from_networkx(G_wiki_robust)\n",
    "data_minmax = from_networkx(G_wiki_minmax)"
   ]
  },
  {
   "cell_type": "code",
   "execution_count": 6,
   "id": "64a536c3",
   "metadata": {},
   "outputs": [],
   "source": [
    "feature_keys = [\"num_categories\", \n",
    "                \"num_links\", \n",
    "                \"page_length\", \n",
    "                \"num_references\", \n",
    "                \"num_sections\", \n",
    "                \"num_templates\", \n",
    "                \"has_infobox_encoded\",\n",
    "                \"protection_status_encoded\",\n",
    "                \"assessment_source_umap_1\",\n",
    "                \"assessment_source_umap_2\",\n",
    "                \"categories_umap_1\",\n",
    "                \"categories_umap_2\",\n",
    "                \"categories_umap_3\",\n",
    "                \"templates_umap_1\",\n",
    "                \"templates_umap_2\",\n",
    "                \"templates_umap_3\",\n",
    "                \"degree_centrality\",\n",
    "                \"pagerank\",\n",
    "                \"reciprocity\",\n",
    "                \"hub\",\n",
    "                \"authority\",\n",
    "                \"eigen\"]"
   ]
  },
  {
   "cell_type": "code",
   "execution_count": 7,
   "id": "417eeec9",
   "metadata": {},
   "outputs": [],
   "source": [
    "# Regressions\n",
    "data_standard_reg = torching_data(data_standard, \"standard_reg\", feature_keys, \"QC_num_log\")\n",
    "data_robust_reg = torching_data(data_robust, \"robust_reg\", feature_keys, \"QC_num_log\")\n",
    "data_minmax_reg = torching_data(data_minmax, \"minmax_reg\", feature_keys, \"QC_num_log\")"
   ]
  },
  {
   "cell_type": "code",
   "execution_count": 8,
   "id": "50c5bcba",
   "metadata": {},
   "outputs": [],
   "source": [
    "data_standard_cat = torching_data(data_standard, \"standard_cat\", feature_keys, \"QC_cat\")\n",
    "data_robust_cat = torching_data(data_robust, \"robust_cat\", feature_keys, \"QC_cat\")\n",
    "data_minmax_cat = torching_data(data_minmax, \"minmax_cat\", feature_keys, \"QC_cat\")"
   ]
  },
  {
   "cell_type": "code",
   "execution_count": 9,
   "id": "49b840d7",
   "metadata": {},
   "outputs": [],
   "source": [
    "data_standard_catagg = torching_data(data_standard, \"standard_catagg\", feature_keys, \"QC_aggcat\")\n",
    "data_robust_catagg = torching_data(data_robust, \"robust_catagg\", feature_keys, \"QC_aggcat\")\n",
    "data_minmax_catagg = torching_data(data_minmax, \"minmax_catagg\", feature_keys, \"QC_aggcat\")"
   ]
  }
 ],
 "metadata": {
  "language_info": {
   "name": "python"
  }
 },
 "nbformat": 4,
 "nbformat_minor": 5
}
