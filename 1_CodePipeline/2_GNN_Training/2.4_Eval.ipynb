{
 "cells": [
  {
   "cell_type": "code",
   "execution_count": null,
   "id": "d867ca6c",
   "metadata": {},
   "outputs": [
    {
     "name": "stdout",
     "output_type": "stream",
     "text": [
      "Requirement already satisfied: torch-sparse in /Users/ramius/.pyenv/versions/3.10.0/envs/pytorch_3.10.0/lib/python3.10/site-packages (0.6.18)\n",
      "Requirement already satisfied: scipy in /Users/ramius/.pyenv/versions/3.10.0/envs/pytorch_3.10.0/lib/python3.10/site-packages (from torch-sparse) (1.15.1)\n",
      "Requirement already satisfied: numpy<2.5,>=1.23.5 in /Users/ramius/.pyenv/versions/3.10.0/envs/pytorch_3.10.0/lib/python3.10/site-packages (from scipy->torch-sparse) (1.26.4)\n",
      "\n",
      "\u001b[1m[\u001b[0m\u001b[34;49mnotice\u001b[0m\u001b[1;39;49m]\u001b[0m\u001b[39;49m A new release of pip is available: \u001b[0m\u001b[31;49m25.0.1\u001b[0m\u001b[39;49m -> \u001b[0m\u001b[32;49m25.2\u001b[0m\n",
      "\u001b[1m[\u001b[0m\u001b[34;49mnotice\u001b[0m\u001b[1;39;49m]\u001b[0m\u001b[39;49m To update, run: \u001b[0m\u001b[32;49m/Users/ramius/.pyenv/versions/3.10.0/envs/pytorch_3.10.0/bin/python -m pip install --upgrade pip\u001b[0m\n",
      "Note: you may need to restart the kernel to use updated packages.\n"
     ]
    }
   ],
   "source": [
    "#%pip install torch-sparse"
   ]
  },
  {
   "cell_type": "code",
   "execution_count": null,
   "id": "99dfe9ce",
   "metadata": {},
   "outputs": [],
   "source": [
    "from utils.create_split_masks import create_split_masks\n",
    "from utils.evaluate_gnn_model import evaluate_gnn_model\n",
    "from utils.evaluate_gnn_model_lazy import evaluate_gnn_model_lazy\n",
    "import torch \n",
    "\n",
    "def model_data_judged_auto(data, check, use_lazy_loading=False, batch_size=1000):\n",
    "    from utils.model_loader import get_model_info\n",
    "    from utils.GNN_model import ImprovedGNN, ResidualGCN, GraphAttentionNet, ResidualGraphSAGE\n",
    "    \n",
    "    # Load configuration\n",
    "    config = get_model_info(f'check/{check}.pt')\n",
    "    \n",
    "    # Model class mapping\n",
    "    model_classes = {\n",
    "        'improved_gnn': ImprovedGNN,\n",
    "        'residual_gcn': ResidualGCN, \n",
    "        'gat': GraphAttentionNet,\n",
    "        'residual_sage': ResidualGraphSAGE\n",
    "    }\n",
    "    \n",
    "    # Create model with config parameters\n",
    "    model_class = model_classes[config['model_type']]\n",
    "    model_kwargs = {\n",
    "        'input_dim': config['input_dim'],\n",
    "        'hidden_dim': config['hidden_dim'], \n",
    "        'output_dim': config['output_dim'],\n",
    "        'num_layers': config['num_layers'],\n",
    "        'dropout': config['dropout']\n",
    "    }\n",
    "    \n",
    "    if config['model_type'] == 'gat':\n",
    "        model_kwargs['heads'] = config.get('heads', 4)\n",
    "        \n",
    "    model = model_class(**model_kwargs)\n",
    "    \n",
    "    # Load state dict on CPU first\n",
    "    checkpoint_path = f'check/{check}.pt'.replace('.pt', '_with_config.pt') if not f'check/{check}.pt'.endswith('_with_config.pt') else f'check/{check}.pt'\n",
    "    checkpoint = torch.load(checkpoint_path, map_location='cpu', weights_only=False)\n",
    "    model.load_state_dict(checkpoint['model_state_dict'])\n",
    "    \n",
    "    # Move to MPS if available\n",
    "    if use_lazy_loading:\n",
    "        device = 'mps'\n",
    "    else:\n",
    "        device = 'cpu'\n",
    "    \n",
    "    model = model.to(device)\n",
    "    model.eval()\n",
    "    \n",
    "    if use_lazy_loading:\n",
    "        # Use lazy loading evaluation - only pass the data path\n",
    "        data_path = f\"data/{data}.pt\"\n",
    "        result = evaluate_gnn_model_lazy(data_path, model, mask_type='test', device=device, batch_size=batch_size)\n",
    "    else:\n",
    "        # Original evaluation method - load full graph\n",
    "        data_classification = torch.load(f\"data/{data}.pt\", weights_only=False)\n",
    "        _, _, test_mask = create_split_masks(data_classification)\n",
    "        data_classification.test_mask = test_mask\n",
    "        result = evaluate_gnn_model(data_classification, model, mask_type='test', device=device)\n",
    "    \n",
    "    return result, config"
   ]
  },
  {
   "cell_type": "markdown",
   "id": "e2e795ec",
   "metadata": {},
   "source": [
    "***\n",
    "\n",
    "## Classification"
   ]
  },
  {
   "cell_type": "code",
   "execution_count": null,
   "id": "9a9d1a75",
   "metadata": {},
   "outputs": [],
   "source": [
    "result, config = model_data_judged_auto(\"data_quantile_Target_QC_aggcat\", \"enhanced_residual_gcn_data_quantile_Target_QC_aggcat\", use_lazy_loading=True, batch_size=8192)\n",
    "print(f\"Model used: {config['model_type']} with hidden_dim={config['hidden_dim']}\")"
   ]
  },
  {
   "cell_type": "code",
   "execution_count": null,
   "id": "2f481399",
   "metadata": {},
   "outputs": [],
   "source": [
    "result, config = model_data_judged_auto(\"data_quantile_Target_QC_aggcat\", \"enhanced_residual_sage_data_quantile_Target_QC_aggcat\", use_lazy_loading=True, batch_size=8192)\n",
    "print(f\"Model used: {config['model_type']} with hidden_dim={config['hidden_dim']}\")"
   ]
  },
  {
   "cell_type": "code",
   "execution_count": null,
   "id": "dd2d69fe",
   "metadata": {},
   "outputs": [],
   "source": [
    "result, config = model_data_judged_auto(\"data_quantile_Target_QC_aggcat\", \"enhanced_improved_gnn_data_quantile_Target_QC_aggcat\", use_lazy_loading=True, batch_size=8192)\n",
    "print(f\"Model used: {config['model_type']} with hidden_dim={config['hidden_dim']}\")"
   ]
  },
  {
   "cell_type": "code",
   "execution_count": null,
   "id": "5677a113",
   "metadata": {},
   "outputs": [],
   "source": [
    "result, config = model_data_judged_auto(\"data_quantile_Target_QC_aggcat\", \"enhanced_gat_data_quantile_Target_QC_aggcat\", use_lazy_loading=True, batch_size=8192)\n",
    "print(f\"Model used: {config['model_type']} with hidden_dim={config['hidden_dim']}\")"
   ]
  },
  {
   "cell_type": "code",
   "execution_count": null,
   "id": "d8efad65",
   "metadata": {},
   "outputs": [],
   "source": [
    "result, config = model_data_judged_auto(\"data_quantile_Target_QC_aggcat\", \"enhanced_mlp_data_quantile_Target_QC_aggcat\", use_lazy_loading=True, batch_size=8192)\n",
    "print(f\"Model used: {config['model_type']} with hidden_dim={config['hidden_dim']}\")"
   ]
  }
 ],
 "metadata": {
  "language_info": {
   "name": "python"
  }
 },
 "nbformat": 4,
 "nbformat_minor": 5
}
