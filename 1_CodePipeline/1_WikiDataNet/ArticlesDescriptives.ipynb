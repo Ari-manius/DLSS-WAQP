{
 "cells": [
  {
   "cell_type": "code",
   "execution_count": 12,
   "id": "da7fdb5e",
   "metadata": {},
   "outputs": [],
   "source": [
    "import pandas as pd"
   ]
  },
  {
   "cell_type": "code",
   "execution_count": 20,
   "id": "17bbee71",
   "metadata": {},
   "outputs": [],
   "source": [
    "df = pd.read_csv(\"data/data_final.csv\")\n",
    "df_old = pd.read_csv(\"data/cleaned_articles_final.csv\")"
   ]
  },
  {
   "cell_type": "code",
   "execution_count": 21,
   "id": "1e1cc5f0",
   "metadata": {},
   "outputs": [],
   "source": [
    "set_old = set(df_old.columns)\n",
    "set_new = set(df.columns)"
   ]
  },
  {
   "cell_type": "code",
   "execution_count": 27,
   "id": "61f2f502",
   "metadata": {},
   "outputs": [
    {
     "data": {
      "text/plain": [
       "True"
      ]
     },
     "execution_count": null,
     "metadata": {},
     "output_type": "execute_result"
    }
   ],
   "source": [
    "set_old.issubset(set_new)"
   ]
  },
  {
   "cell_type": "code",
   "execution_count": 22,
   "id": "d416a949",
   "metadata": {},
   "outputs": [
    {
     "data": {
      "text/plain": [
       "{'article',\n",
       " 'assessment_source',\n",
       " 'depth',\n",
       " 'has_infobox',\n",
       " 'is_seed',\n",
       " 'last_timestamp',\n",
       " 'num_categories',\n",
       " 'num_links',\n",
       " 'num_references',\n",
       " 'num_sections',\n",
       " 'num_templates',\n",
       " 'page_length',\n",
       " 'pageid',\n",
       " 'protection_status',\n",
       " 'quality_class',\n",
       " 'revid'}"
      ]
     },
     "execution_count": null,
     "metadata": {},
     "output_type": "execute_result"
    }
   ],
   "source": [
    "set_new.intersection(set_old)"
   ]
  },
  {
   "cell_type": "code",
   "execution_count": 19,
   "id": "3401a27b",
   "metadata": {},
   "outputs": [],
   "source": [
    "help(set)"
   ]
  },
  {
   "cell_type": "code",
   "execution_count": 25,
   "id": "a7ded0e5",
   "metadata": {},
   "outputs": [
    {
     "data": {
      "text/plain": [
       "{'days_since_last_edit',\n",
       " 'edits_all_types',\n",
       " 'edits_anonymous',\n",
       " 'edits_bot',\n",
       " 'edits_group_bot',\n",
       " 'edits_human',\n",
       " 'edits_name_bot',\n",
       " 'edits_user',\n",
       " 'last_edit',\n",
       " 'pageviews_Jul2023Jul2024',\n",
       " 'title'}"
      ]
     },
     "execution_count": null,
     "metadata": {},
     "output_type": "execute_result"
    }
   ],
   "source": [
    "set_new.difference(set_old)"
   ]
  }
 ],
 "metadata": {
  "language_info": {
   "name": "python"
  }
 },
 "nbformat": 4,
 "nbformat_minor": 5
}
